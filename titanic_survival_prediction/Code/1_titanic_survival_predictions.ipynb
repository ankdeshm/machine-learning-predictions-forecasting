{
 "cells": [
  {
   "cell_type": "code",
   "execution_count": 172,
   "id": "65b93e91",
   "metadata": {},
   "outputs": [],
   "source": [
    "import pandas as pd\n",
    "import numpy as np\n",
    "from sklearn.linear_model import LogisticRegression\n",
    "from sklearn import metrics\n",
    "\n",
    "\n",
    "# Read data from scv files and drop index\n",
    "Test = pd.read_csv('test.csv', index_col=0)\n",
    "Train = pd.read_csv('train.csv', index_col=0)\n",
    "gender = pd.read_csv('gender_submission.csv', index_col=0)"
   ]
  },
  {
   "cell_type": "code",
   "execution_count": 173,
   "id": "2eb97f5c",
   "metadata": {},
   "outputs": [
    {
     "data": {
      "text/html": [
       "<div>\n",
       "<style scoped>\n",
       "    .dataframe tbody tr th:only-of-type {\n",
       "        vertical-align: middle;\n",
       "    }\n",
       "\n",
       "    .dataframe tbody tr th {\n",
       "        vertical-align: top;\n",
       "    }\n",
       "\n",
       "    .dataframe thead th {\n",
       "        text-align: right;\n",
       "    }\n",
       "</style>\n",
       "<table border=\"1\" class=\"dataframe\">\n",
       "  <thead>\n",
       "    <tr style=\"text-align: right;\">\n",
       "      <th></th>\n",
       "      <th>Survived</th>\n",
       "      <th>Pclass</th>\n",
       "      <th>Sex</th>\n",
       "      <th>Age</th>\n",
       "      <th>SibSp</th>\n",
       "      <th>Parch</th>\n",
       "      <th>Embarked</th>\n",
       "    </tr>\n",
       "    <tr>\n",
       "      <th>PassengerId</th>\n",
       "      <th></th>\n",
       "      <th></th>\n",
       "      <th></th>\n",
       "      <th></th>\n",
       "      <th></th>\n",
       "      <th></th>\n",
       "      <th></th>\n",
       "    </tr>\n",
       "  </thead>\n",
       "  <tbody>\n",
       "    <tr>\n",
       "      <th>1</th>\n",
       "      <td>0</td>\n",
       "      <td>3</td>\n",
       "      <td>male</td>\n",
       "      <td>22.0</td>\n",
       "      <td>1</td>\n",
       "      <td>0</td>\n",
       "      <td>S</td>\n",
       "    </tr>\n",
       "    <tr>\n",
       "      <th>2</th>\n",
       "      <td>1</td>\n",
       "      <td>1</td>\n",
       "      <td>female</td>\n",
       "      <td>38.0</td>\n",
       "      <td>1</td>\n",
       "      <td>0</td>\n",
       "      <td>C</td>\n",
       "    </tr>\n",
       "    <tr>\n",
       "      <th>3</th>\n",
       "      <td>1</td>\n",
       "      <td>3</td>\n",
       "      <td>female</td>\n",
       "      <td>26.0</td>\n",
       "      <td>0</td>\n",
       "      <td>0</td>\n",
       "      <td>S</td>\n",
       "    </tr>\n",
       "    <tr>\n",
       "      <th>4</th>\n",
       "      <td>1</td>\n",
       "      <td>1</td>\n",
       "      <td>female</td>\n",
       "      <td>35.0</td>\n",
       "      <td>1</td>\n",
       "      <td>0</td>\n",
       "      <td>S</td>\n",
       "    </tr>\n",
       "    <tr>\n",
       "      <th>5</th>\n",
       "      <td>0</td>\n",
       "      <td>3</td>\n",
       "      <td>male</td>\n",
       "      <td>35.0</td>\n",
       "      <td>0</td>\n",
       "      <td>0</td>\n",
       "      <td>S</td>\n",
       "    </tr>\n",
       "  </tbody>\n",
       "</table>\n",
       "</div>"
      ],
      "text/plain": [
       "             Survived  Pclass     Sex   Age  SibSp  Parch Embarked\n",
       "PassengerId                                                       \n",
       "1                   0       3    male  22.0      1      0        S\n",
       "2                   1       1  female  38.0      1      0        C\n",
       "3                   1       3  female  26.0      0      0        S\n",
       "4                   1       1  female  35.0      1      0        S\n",
       "5                   0       3    male  35.0      0      0        S"
      ]
     },
     "execution_count": 173,
     "metadata": {},
     "output_type": "execute_result"
    }
   ],
   "source": [
    "# drop unnecessary colums\n",
    "to_drop = ['Name',\n",
    "           'Ticket',\n",
    "           'Fare',\n",
    "           'Cabin']\n",
    "\n",
    "Train.drop(to_drop, inplace=True, axis=1)\n",
    "Test.drop(to_drop, inplace=True, axis=1)\n",
    "Train.head()\n",
    "#Test.head()"
   ]
  },
  {
   "cell_type": "code",
   "execution_count": 174,
   "id": "e2333818",
   "metadata": {},
   "outputs": [
    {
     "name": "stdout",
     "output_type": "stream",
     "text": [
      "Survived      0\n",
      "Pclass        0\n",
      "Sex           0\n",
      "Age         177\n",
      "SibSp         0\n",
      "Parch         0\n",
      "Embarked      2\n",
      "dtype: int64\n",
      "Pclass       0\n",
      "Sex          0\n",
      "Age         86\n",
      "SibSp        0\n",
      "Parch        0\n",
      "Embarked     0\n",
      "dtype: int64\n"
     ]
    }
   ],
   "source": [
    "print(Train[:].isnull().sum())\n",
    "print(Test[:].isnull().sum())"
   ]
  },
  {
   "cell_type": "code",
   "execution_count": 175,
   "id": "964478ce",
   "metadata": {},
   "outputs": [
    {
     "name": "stdout",
     "output_type": "stream",
     "text": [
      "Survived    0\n",
      "Pclass      0\n",
      "Sex         0\n",
      "Age         0\n",
      "SibSp       0\n",
      "Parch       0\n",
      "Embarked    0\n",
      "dtype: int64\n",
      "Pclass      0\n",
      "Sex         0\n",
      "Age         0\n",
      "SibSp       0\n",
      "Parch       0\n",
      "Embarked    0\n",
      "dtype: int64\n"
     ]
    }
   ],
   "source": [
    "x1 = Train[\"Age\"].mean()\n",
    "Train[\"Age\"].fillna(x1, inplace = True)\n",
    "\n",
    "x2 = Train[\"Embarked\"].mode()[0]\n",
    "Train[\"Embarked\"].fillna(x1, inplace = True)\n",
    "\n",
    "print(Train[:].isnull().sum())\n",
    "\n",
    "x3 = Test[\"Age\"].mean()\n",
    "Test[\"Age\"].fillna(x1, inplace = True)\n",
    "\n",
    "print(Test[:].isnull().sum())\n"
   ]
  },
  {
   "cell_type": "code",
   "execution_count": 176,
   "id": "6704ef20",
   "metadata": {},
   "outputs": [
    {
     "name": "stdout",
     "output_type": "stream",
     "text": [
      "306\n",
      "123\n"
     ]
    }
   ],
   "source": [
    "print(Train.duplicated().sum())\n",
    "# Train.drop_duplicates(inplace = True)\n",
    "\n",
    "print(Test.duplicated().sum())"
   ]
  },
  {
   "cell_type": "code",
   "execution_count": 177,
   "id": "d9529dc3",
   "metadata": {},
   "outputs": [
    {
     "name": "stdout",
     "output_type": "stream",
     "text": [
      "             Survived  Pclass Sex        Age  SibSp  Parch Embarked\n",
      "PassengerId                                                        \n",
      "1                   0       3   1  22.000000      1      0        1\n",
      "2                   1       1   0  38.000000      1      0        2\n",
      "3                   1       3   0  26.000000      0      0        1\n",
      "4                   1       1   0  35.000000      1      0        1\n",
      "5                   0       3   1  35.000000      0      0        1\n",
      "...               ...     ...  ..        ...    ...    ...      ...\n",
      "887                 0       2   1  27.000000      0      0        1\n",
      "888                 1       1   0  19.000000      0      0        1\n",
      "889                 0       3   0  29.699118      1      2        1\n",
      "890                 1       1   1  26.000000      0      0        2\n",
      "891                 0       3   1  32.000000      0      0        3\n",
      "\n",
      "[891 rows x 7 columns]\n",
      "             Pclass Sex        Age  SibSp  Parch Embarked\n",
      "PassengerId                                              \n",
      "892               3   1  34.500000      0      0        3\n",
      "893               3   0  47.000000      1      0        1\n",
      "894               2   1  62.000000      0      0        3\n",
      "895               3   1  27.000000      0      0        1\n",
      "896               3   0  22.000000      1      1        1\n",
      "...             ...  ..        ...    ...    ...      ...\n",
      "1305              3   1  29.699118      0      0        1\n",
      "1306              1   0  39.000000      0      0        2\n",
      "1307              3   1  38.500000      0      0        1\n",
      "1308              3   1  29.699118      0      0        1\n",
      "1309              3   1  29.699118      1      1        2\n",
      "\n",
      "[418 rows x 6 columns]\n"
     ]
    }
   ],
   "source": [
    "Train[\"Sex\"].replace({\"male\": \"1\", \"female\": \"0\"}, inplace=True)\n",
    "Train[\"Embarked\"].replace({\"S\": \"1\", \"C\": \"2\", \"Q\": \"3\"}, inplace=True)\n",
    "print(Train)\n",
    "\n",
    "Test[\"Sex\"].replace({\"male\": \"1\", \"female\": \"0\"}, inplace=True)\n",
    "Test[\"Embarked\"].replace({\"S\": \"1\", \"C\": \"2\", \"Q\": \"3\"}, inplace=True)\n",
    "print(Test)\n",
    "\n",
    "\n",
    "# Train.Sex.astype(\"category\").cat.codes\n",
    "# print(Train.Embarked.astype(\"category\").cat.codes)\n",
    "# print(Test.Sex.astype(\"category\").cat.codes)\n",
    "# print(Test.Embarked.astype(\"category\").cat.codes)"
   ]
  },
  {
   "cell_type": "code",
   "execution_count": 169,
   "id": "c0874087",
   "metadata": {},
   "outputs": [
    {
     "data": {
      "text/html": [
       "<style>#sk-container-id-7 {color: black;background-color: white;}#sk-container-id-7 pre{padding: 0;}#sk-container-id-7 div.sk-toggleable {background-color: white;}#sk-container-id-7 label.sk-toggleable__label {cursor: pointer;display: block;width: 100%;margin-bottom: 0;padding: 0.3em;box-sizing: border-box;text-align: center;}#sk-container-id-7 label.sk-toggleable__label-arrow:before {content: \"▸\";float: left;margin-right: 0.25em;color: #696969;}#sk-container-id-7 label.sk-toggleable__label-arrow:hover:before {color: black;}#sk-container-id-7 div.sk-estimator:hover label.sk-toggleable__label-arrow:before {color: black;}#sk-container-id-7 div.sk-toggleable__content {max-height: 0;max-width: 0;overflow: hidden;text-align: left;background-color: #f0f8ff;}#sk-container-id-7 div.sk-toggleable__content pre {margin: 0.2em;color: black;border-radius: 0.25em;background-color: #f0f8ff;}#sk-container-id-7 input.sk-toggleable__control:checked~div.sk-toggleable__content {max-height: 200px;max-width: 100%;overflow: auto;}#sk-container-id-7 input.sk-toggleable__control:checked~label.sk-toggleable__label-arrow:before {content: \"▾\";}#sk-container-id-7 div.sk-estimator input.sk-toggleable__control:checked~label.sk-toggleable__label {background-color: #d4ebff;}#sk-container-id-7 div.sk-label input.sk-toggleable__control:checked~label.sk-toggleable__label {background-color: #d4ebff;}#sk-container-id-7 input.sk-hidden--visually {border: 0;clip: rect(1px 1px 1px 1px);clip: rect(1px, 1px, 1px, 1px);height: 1px;margin: -1px;overflow: hidden;padding: 0;position: absolute;width: 1px;}#sk-container-id-7 div.sk-estimator {font-family: monospace;background-color: #f0f8ff;border: 1px dotted black;border-radius: 0.25em;box-sizing: border-box;margin-bottom: 0.5em;}#sk-container-id-7 div.sk-estimator:hover {background-color: #d4ebff;}#sk-container-id-7 div.sk-parallel-item::after {content: \"\";width: 100%;border-bottom: 1px solid gray;flex-grow: 1;}#sk-container-id-7 div.sk-label:hover label.sk-toggleable__label {background-color: #d4ebff;}#sk-container-id-7 div.sk-serial::before {content: \"\";position: absolute;border-left: 1px solid gray;box-sizing: border-box;top: 0;bottom: 0;left: 50%;z-index: 0;}#sk-container-id-7 div.sk-serial {display: flex;flex-direction: column;align-items: center;background-color: white;padding-right: 0.2em;padding-left: 0.2em;position: relative;}#sk-container-id-7 div.sk-item {position: relative;z-index: 1;}#sk-container-id-7 div.sk-parallel {display: flex;align-items: stretch;justify-content: center;background-color: white;position: relative;}#sk-container-id-7 div.sk-item::before, #sk-container-id-7 div.sk-parallel-item::before {content: \"\";position: absolute;border-left: 1px solid gray;box-sizing: border-box;top: 0;bottom: 0;left: 50%;z-index: -1;}#sk-container-id-7 div.sk-parallel-item {display: flex;flex-direction: column;z-index: 1;position: relative;background-color: white;}#sk-container-id-7 div.sk-parallel-item:first-child::after {align-self: flex-end;width: 50%;}#sk-container-id-7 div.sk-parallel-item:last-child::after {align-self: flex-start;width: 50%;}#sk-container-id-7 div.sk-parallel-item:only-child::after {width: 0;}#sk-container-id-7 div.sk-dashed-wrapped {border: 1px dashed gray;margin: 0 0.4em 0.5em 0.4em;box-sizing: border-box;padding-bottom: 0.4em;background-color: white;}#sk-container-id-7 div.sk-label label {font-family: monospace;font-weight: bold;display: inline-block;line-height: 1.2em;}#sk-container-id-7 div.sk-label-container {text-align: center;}#sk-container-id-7 div.sk-container {/* jupyter's `normalize.less` sets `[hidden] { display: none; }` but bootstrap.min.css set `[hidden] { display: none !important; }` so we also need the `!important` here to be able to override the default hidden behavior on the sphinx rendered scikit-learn.org. See: https://github.com/scikit-learn/scikit-learn/issues/21755 */display: inline-block !important;position: relative;}#sk-container-id-7 div.sk-text-repr-fallback {display: none;}</style><div id=\"sk-container-id-7\" class=\"sk-top-container\"><div class=\"sk-text-repr-fallback\"><pre>LogisticRegression()</pre><b>In a Jupyter environment, please rerun this cell to show the HTML representation or trust the notebook. <br />On GitHub, the HTML representation is unable to render, please try loading this page with nbviewer.org.</b></div><div class=\"sk-container\" hidden><div class=\"sk-item\"><div class=\"sk-estimator sk-toggleable\"><input class=\"sk-toggleable__control sk-hidden--visually\" id=\"sk-estimator-id-7\" type=\"checkbox\" checked><label for=\"sk-estimator-id-7\" class=\"sk-toggleable__label sk-toggleable__label-arrow\">LogisticRegression</label><div class=\"sk-toggleable__content\"><pre>LogisticRegression()</pre></div></div></div></div></div>"
      ],
      "text/plain": [
       "LogisticRegression()"
      ]
     },
     "execution_count": 169,
     "metadata": {},
     "output_type": "execute_result"
    }
   ],
   "source": [
    "# TitanicLog1 = glm(Train.Survived~., data = Train, family = binomial)\n",
    "# summary(TitanicLog1)\n",
    "\n",
    "X_train = Train.drop(columns=['Survived'])\n",
    "y_train = Train['Survived']\n",
    "# print(X)\n",
    "# model = LogisticRegression(solver='liblinear', random_state=0)\n",
    "# model.fit(X, y)\n",
    "\n",
    "# logit_model = sm.Logit(y,X)\n",
    "# result = logit_model.fit()\n",
    "# print(result.summary2())\n",
    "\n",
    "logreg = LogisticRegression()\n",
    "logreg.fit(X_train, y_train)"
   ]
  },
  {
   "cell_type": "code",
   "execution_count": 170,
   "id": "ddf8593b",
   "metadata": {},
   "outputs": [
    {
     "data": {
      "text/plain": [
       "0      0\n",
       "1      0\n",
       "2      0\n",
       "3      0\n",
       "4      1\n",
       "      ..\n",
       "413    0\n",
       "414    1\n",
       "415    0\n",
       "416    0\n",
       "417    0\n",
       "Length: 418, dtype: int64"
      ]
     },
     "execution_count": 170,
     "metadata": {},
     "output_type": "execute_result"
    }
   ],
   "source": [
    "y_pred = logreg.predict(Test)\n",
    "y_pred = pd.Series(y_pred)\n",
    "y_pred\n",
    "\n",
    "# y_pred = logreg.predict(X_test)\n",
    "# print('Accuracy of logistic regression classifier on test set: {:.2f}'.format(logreg.score(X_test, y_test)))"
   ]
  },
  {
   "cell_type": "code",
   "execution_count": 182,
   "id": "577ef2ec",
   "metadata": {},
   "outputs": [
    {
     "name": "stdout",
     "output_type": "stream",
     "text": [
      "y_actual = PassengerId\n",
      "892     0\n",
      "893     1\n",
      "894     0\n",
      "895     0\n",
      "896     1\n",
      "       ..\n",
      "1305    0\n",
      "1306    1\n",
      "1307    0\n",
      "1308    0\n",
      "1309    0\n",
      "Name: Survived, Length: 418, dtype: int64\n",
      "<class 'pandas.core.series.Series'>\n",
      "y_pred = 0      0\n",
      "1      0\n",
      "2      0\n",
      "3      0\n",
      "4      1\n",
      "      ..\n",
      "413    0\n",
      "414    1\n",
      "415    0\n",
      "416    0\n",
      "417    0\n",
      "Length: 418, dtype: int64\n",
      "<class 'pandas.core.series.Series'>\n",
      "0.9210526315789473\n"
     ]
    }
   ],
   "source": [
    "# accuracy_score: finding accuracy of s model\n",
    "from sklearn.metrics import accuracy_score\n",
    "\n",
    "y_actual = gender['Survived']\n",
    "print(f'y_actual = {y_actual}')\n",
    "print(type(y_actual))\n",
    "\n",
    "print(f'y_pred = {y_pred}')\n",
    "print(type(y_pred))\n",
    "\n",
    "score = accuracy_score(y_actual, y_pred)\n",
    "print(score)"
   ]
  },
  {
   "cell_type": "code",
   "execution_count": 184,
   "id": "b472a90f",
   "metadata": {},
   "outputs": [],
   "source": [
    "csv_input = pd.read_csv('gender_submission.csv')\n",
    "csv_input['Survived'] = y_pred\n",
    "csv_input.to_csv('Titanic_Survival_Prediction.csv', index=False)"
   ]
  },
  {
   "cell_type": "code",
   "execution_count": null,
   "id": "221e698f",
   "metadata": {},
   "outputs": [],
   "source": []
  }
 ],
 "metadata": {
  "kernelspec": {
   "display_name": "Python 3 (ipykernel)",
   "language": "python",
   "name": "python3"
  },
  "language_info": {
   "codemirror_mode": {
    "name": "ipython",
    "version": 3
   },
   "file_extension": ".py",
   "mimetype": "text/x-python",
   "name": "python",
   "nbconvert_exporter": "python",
   "pygments_lexer": "ipython3",
   "version": "3.9.13"
  }
 },
 "nbformat": 4,
 "nbformat_minor": 5
}
